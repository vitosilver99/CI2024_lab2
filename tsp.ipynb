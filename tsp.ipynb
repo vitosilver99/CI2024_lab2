{
 "cells": [
  {
   "cell_type": "markdown",
   "metadata": {
    "vscode": {
     "languageId": "plaintext"
    }
   },
   "source": [
    "Copyright **`(c)`** 2024 Giovanni Squillero `<giovanni.squillero@polito.it>`  \n",
    "[`https://github.com/squillero/computational-intelligence`](https://github.com/squillero/computational-intelligence)  \n",
    "Free under certain conditions — see the [`license`](https://github.com/squillero/computational-intelligence/blob/master/LICENSE.md) for details.  "
   ]
  },
  {
   "cell_type": "code",
   "execution_count": null,
   "metadata": {},
   "outputs": [],
   "source": [
    "import logging\n",
    "from itertools import combinations\n",
    "import pandas as pd\n",
    "import numpy as np\n",
    "from geopy.distance import geodesic\n",
    "import networkx as nx\n",
    "from dataclasses import dataclass\n",
    "import random\n",
    "from icecream import ic\n",
    "from tqdm.auto import tqdm\n",
    "\n",
    "logging.basicConfig(level=logging.DEBUG)"
   ]
  },
  {
   "cell_type": "code",
   "execution_count": null,
   "metadata": {},
   "outputs": [],
   "source": [
    "CITIES = pd.read_csv('cities/china.csv', header=None, names=['name', 'lat', 'lon'])\n",
    "DIST_MATRIX = np.zeros((len(CITIES), len(CITIES)))\n",
    "for c1, c2 in combinations(CITIES.itertuples(), 2): ##It create all possible combinations of cities and with geodesic i calculate all distances\n",
    "    DIST_MATRIX[c1.Index, c2.Index] = DIST_MATRIX[c2.Index, c1.Index] = geodesic(\n",
    "        (c1.lat, c1.lon), (c2.lat, c2.lon)).km\n",
    "CITIES.head()"
   ]
  },
  {
   "cell_type": "markdown",
   "metadata": {},
   "source": [
    "## Lab2 - TSP\n",
    "\n",
    "https://www.wolframcloud.com/obj/giovanni.squillero/Published/Lab2-tsp.nb"
   ]
  },
  {
   "cell_type": "code",
   "execution_count": null,
   "metadata": {},
   "outputs": [],
   "source": [
    "def tsp_cost(tsp):\n",
    "    assert tsp[0] == tsp[-1]\n",
    "    assert set(tsp) == set(range(len(CITIES)))\n",
    "\n",
    "    tot_cost = 0\n",
    "    for c1, c2 in zip(tsp, tsp[1:]):\n",
    "        tot_cost += DIST_MATRIX[c1, c2]\n",
    "    return tot_cost"
   ]
  },
  {
   "cell_type": "markdown",
   "metadata": {},
   "source": [
    "## Greedy Algorithm"
   ]
  },
  {
   "cell_type": "code",
   "execution_count": null,
   "metadata": {},
   "outputs": [],
   "source": [
    "def change_position(tsp):\n",
    "    improved = True\n",
    "    while improved:\n",
    "        improved = False\n",
    "        for i in range(1, len(tsp) - 2):\n",
    "            for j in range(i + 1, len(tsp) - 1):\n",
    "                # Check if the inversion would reduce the path length\n",
    "                if DIST_MATRIX[tsp[i - 1], tsp[i]] + DIST_MATRIX[tsp[j], tsp[j + 1]] > DIST_MATRIX[tsp[i - 1], tsp[j]] + DIST_MATRIX[tsp[i], tsp[j + 1]]:\n",
    "                    tsp[i], tsp[j] = tsp[j], tsp[i]\n",
    "                    improved = True\n",
    "    return tsp"
   ]
  },
  {
   "cell_type": "code",
   "execution_count": null,
   "metadata": {},
   "outputs": [],
   "source": [
    "visited = np.full(len(CITIES), False)\n",
    "dist = DIST_MATRIX.copy()\n",
    "city = 0\n",
    "visited[city] = True\n",
    "tsp = list()\n",
    "tsp.append(int(city))\n",
    "while not np.all(visited):\n",
    "    dist[:, city] = np.inf  # set all distances from current city to infinity, in order to exclude in the next step\n",
    "    closest = np.argmin(dist[city])\n",
    "    logging.debug(f\"step: {CITIES.at[city,'name']} -> {CITIES.at[closest,'name']} ({DIST_MATRIX[city,closest]:.2f}km)\")\n",
    "    visited[closest] = True\n",
    "    city = closest\n",
    "    tsp.append(int(city))\n",
    "\n",
    "logging.debug(f\"step: {CITIES.at[tsp[-1],'name']} -> {CITIES.at[tsp[0],'name']} ({DIST_MATRIX[tsp[-1],tsp[0]]:.2f}km)\")\n",
    "tsp.append(tsp[0])\n",
    "\n",
    "logging.info(f\"result: Found a path of {len(tsp)-1} steps, total length {tsp_cost(tsp):.2f}km\")\n",
    "\n",
    "tsp = change_position(tsp)\n",
    "\n",
    "logging.info(f\"result: Found a path of {len(tsp)-1} steps, total length {tsp_cost(tsp):.2f}km\")\n"
   ]
  },
  {
   "cell_type": "markdown",
   "metadata": {},
   "source": [
    "## Second Algorithm: EA"
   ]
  },
  {
   "cell_type": "code",
   "execution_count": null,
   "metadata": {},
   "outputs": [],
   "source": [
    "@dataclass\n",
    "class Individual:\n",
    "    genome: np.ndarray\n",
    "    fitness: float = None\n",
    "\n",
    "def fitness(i : Individual):\n",
    "    genome = i.genome\n",
    "    assert genome[0] == genome[-1]\n",
    "    assert set(genome) == set(range(len(CITIES)))\n",
    "\n",
    "    tot_cost = 0\n",
    "    for c1, c2 in zip(genome, genome[1:]):\n",
    "        tot_cost += DIST_MATRIX[c1, c2]\n",
    "        \n",
    "    return tot_cost\n",
    "\n",
    "def parent_selection(population, tournament_size=3):\n",
    "    candidates = random.sample(population, tournament_size)\n",
    "    \n",
    "    candidates.sort(key=lambda x: x.fitness, reverse=True)\n",
    "    \n",
    "    for candidate in candidates:\n",
    "        if random.random() < 0.8:\n",
    "            return candidate\n",
    "    return candidates[0]\n",
    "\n",
    "def insert_muatation(p: Individual):\n",
    "    genome = p.genome.copy()\n",
    "    \n",
    "    # Select two different positions, avoiding the first and last element (0 and 0) of the path\n",
    "    pos1, pos2 = random.sample(range(1, len(genome) - 1), 2)\n",
    "    \n",
    "    gene = genome[pos1]\n",
    "    \n",
    "    # Remove the element from the original position and insert it in the new position\n",
    "    genome = np.delete(genome, pos1)\n",
    "    genome = np.insert(genome, pos2, gene)\n",
    "   \n",
    "    return Individual(genome=np.array(genome), fitness=None)\n",
    "\n",
    "def inversion_mutation(individual: Individual) -> Individual:\n",
    "    genome = individual.genome.copy()\n",
    "\n",
    "    pos1, pos2 = sorted(random.sample(range(1, len(genome) - 1), 2))\n",
    "\n",
    "    genome[pos1:pos2+1] = genome[pos1:pos2+1][::-1]\n",
    "\n",
    "    return Individual(genome=genome, fitness=None)\n",
    "\n",
    "   \n",
    "def crossover(p1: Individual, p2: Individual):\n",
    "    genome1 = p1.genome[1:-1]  \n",
    "    genome2 = p2.genome[1:-1]\n",
    "    size = len(genome1)\n",
    "    \n",
    "    # Select a random range\n",
    "    start, end = sorted(random.sample(range(size), 2))\n",
    "    \n",
    "    # Copy the segment from the first parent\n",
    "    child_genome = [-1] * size\n",
    "    child_genome[start:end] = genome1[start:end]\n",
    "    \n",
    "    # Fill with the segment from the second parent\n",
    "    for city in genome2:\n",
    "        if city not in child_genome:\n",
    "            for i in range(size):\n",
    "                if child_genome[i] == -1:\n",
    "                    child_genome[i] = city\n",
    "                    break\n",
    "\n",
    "    child_genome = np.array([0] + child_genome + [0])\n",
    "    return Individual(genome=child_genome, fitness=None)\n",
    "\n"
   ]
  },
  {
   "cell_type": "code",
   "execution_count": null,
   "metadata": {},
   "outputs": [],
   "source": [
    "POPULATION_SIZE = 20\n",
    "OFFSPRING_SIZE = 4\n",
    "MAX_GENERATIONS = 10_000\n",
    "\n",
    "mutation = insert_muatation\n",
    "num_cities = len(CITIES)\n",
    "\n",
    "# Genarate population of random paths\n",
    "population = [\n",
    "    Individual(\n",
    "        genome=np.array([0] + random.sample(range(1, num_cities), num_cities - 1) + [0]),\n",
    "        fitness=None\n",
    "    )   for _ in range(POPULATION_SIZE-1)]\n",
    "\n",
    "# Insert the path of the prevous algorithm\n",
    "population.insert(0, Individual(genome= tsp, fitness=None))\n",
    "\n",
    "for i in population:\n",
    "    i.fitness = fitness(i)\n",
    "\n",
    "for g in tqdm(range(MAX_GENERATIONS)):\n",
    "    offspring = list()\n",
    "    for _ in range(OFFSPRING_SIZE):\n",
    "        if np.random.random() < 0.5:\n",
    "            p = parent_selection(population)\n",
    "            o = mutation(p)\n",
    "        else:\n",
    "            p1 = parent_selection(population)\n",
    "            p2 = parent_selection(population)\n",
    "            o = crossover(p1, p2)\n",
    "\n",
    "        offspring.append(o)\n",
    "    for i in offspring:\n",
    "        i.fitness = fitness(i)\n",
    "\n",
    "    population.extend(offspring)\n",
    "    population.sort(key=lambda i: i.fitness, reverse=False)\n",
    "    population = population[:POPULATION_SIZE]\n",
    "\n",
    "logging.info(f\"result EA: Found a path of {len(population[0].genome)-1} steps, total length {tsp_cost(population[0].genome):.2f}km\")\n",
    "\n",
    "population[0]. genome = change_position(population[0].genome)\n",
    "\n",
    "logging.info(f\"result: Found a path of {len(population[0].genome)-1} steps, total length {tsp_cost(population[0].genome):.2f}km\")"
   ]
  }
 ],
 "metadata": {
  "kernelspec": {
   "display_name": ".venv",
   "language": "python",
   "name": "python3"
  },
  "language_info": {
   "codemirror_mode": {
    "name": "ipython",
    "version": 3
   },
   "file_extension": ".py",
   "mimetype": "text/x-python",
   "name": "python",
   "nbconvert_exporter": "python",
   "pygments_lexer": "ipython3",
   "version": "3.12.2"
  }
 },
 "nbformat": 4,
 "nbformat_minor": 2
}
